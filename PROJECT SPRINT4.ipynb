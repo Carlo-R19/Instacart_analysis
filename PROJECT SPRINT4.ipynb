{
  "cells": [
    {
      "cell_type": "markdown",
      "id": "94ce08d9-adcb-42b0-9ca7-7cc6b40b423b",
      "metadata": {},
      "source": [
        "# PROYECTO SPRINT 4"
      ]
    },
    {
      "cell_type": "markdown",
      "id": "bba683cc-d270-4340-bb07-bcb02daa29a1",
      "metadata": {},
      "source": [
        "**Instacart** es una plataforma de entregas de comestibles donde la clientela puede registrar un pedido y hacer que se lo entreguen, similar a Uber Eats.\n",
        "\n",
        "Tu misión es limpiar los datos y preparar un informe que brinde información sobre los hábitos de compra de los clientes de Instacart. Después de responder a cada pregunta, escribe una breve explicación de tus resultados en una celda markdown de tu Jupyter notebook.\n",
        "\n",
        "Este proyecto requerirá gráficos que comuniquen tus resultados. Cualquier gráfico debe llevar título, ejes etiquetados y una leyenda si es necesario; e incluye *plt.show()* al final de cada celda con un gráfico."
      ]
    },
    {
      "cell_type": "markdown",
      "id": "050d5b9a-730a-4d00-b9a3-3cbb554b7b94",
      "metadata": {},
      "source": [
        "Datasets\n",
        "\n",
        "- `instacart_orders.csv`: cada fila corresponde a un pedido en la aplicación Instacart.\n",
        "    - `'order_id'`: número de ID que identifica de manera única cada pedido.\n",
        "    - `'user_id'`: número de ID que identifica de manera única la cuenta de cada cliente.\n",
        "    - `'order_number'`: el número de veces que este cliente ha hecho un pedido.\n",
        "    - `'order_dow'`: día de la semana en que se hizo el pedido (0 si es domingo).\n",
        "    - `'order_hour_of_day'`: hora del día en que se hizo el pedido.\n",
        "    - `'days_since_prior_order'`: número de días transcurridos desde que este cliente hizo su pedido anterior.\n",
        "- `products.csv`: cada fila corresponde a un producto único que pueden comprar los clientes.\n",
        "    - `'product_id'`: número ID que identifica de manera única cada producto.\n",
        "    - `'product_name'`: nombre del producto.\n",
        "    - `'aisle_id'`: número ID que identifica de manera única cada categoría de pasillo de víveres.\n",
        "    - `'department_id'`: número ID que identifica de manera única cada departamento de víveres.\n",
        "- `order_products.csv`: cada fila corresponde a un artículo pedido en un pedido.\n",
        "    - `'order_id'`: número de ID que identifica de manera única cada pedido.\n",
        "    - `'product_id'`: número ID que identifica de manera única cada producto.\n",
        "    - `'add_to_cart_order'`: el orden secuencial en el que se añadió cada artículo en el carrito.\n",
        "    - `'reordered'`: 0 si el cliente nunca ha pedido este producto antes, 1 si lo ha pedido.\n",
        "- `aisles.csv`\n",
        "    - `'aisle_id'`: número ID que identifica de manera única cada categoría de pasillo de víveres.\n",
        "    - `'aisle'`: nombre del pasillo.\n",
        "- `departments.csv`\n",
        "    - `'department_id'`: número ID que identifica de manera única cada departamento de víveres.\n",
        "    - `'department'`: nombre del departamento."
      ]
    },
    {
      "cell_type": "markdown",
      "id": "ccd132c1-ebc5-4e60-b9cf-2097d47ad705",
      "metadata": {},
      "source": [
        "**Paso 1**: Abre los archivos de datos (/datasets/instacart_orders.csv, /datasets/products.csv, /datasets/aisles.csv, /datasets/departments.csv y /datasets/order_products.csv) y echa un vistazo al contenido general de cada tabla.\n",
        "\n",
        "Observa que los archivos tienen un formato no estándar, así que vas a necesitar establecer ciertos argumentos en pd.read_csv() para leer los datos correctamente. Mira los archivos CSV para tener una idea de cuáles deberían ser esos argumentos.\n",
        "\n",
        "Ten en cuenta que order_products.csv contiene muchas filas de datos. Cuando un DataFrame tiene demasiadas filas, info() no imprimirá los recuentos no nulos por defecto. Si quieres imprimir los recuentos no nulos, incluye show_counts=True cuando llames a info().\n",
        "\n",
        "**Paso 2**: Preprocesa los datos de la siguiente manera:\n",
        "* Verifica y corrige los tipos de datos (por ejemplo, asegúrate de que las columnas de ID sean números enteros).\n",
        "* Identifica y completa los valores ausentes.\n",
        "* Identifica y elimina los valores duplicados.\n",
        "\n",
        "Asegúrate de explicar qué tipos de valores ausentes y duplicados encontraste, cómo los completaste o eliminaste y por qué usaste esos métodos. ¿Por qué crees que estos valores ausentes y duplicados pueden haber estado presentes en el conjunto de datos?\n",
        "\n",
        "**Paso 3**: Una vez que los datos estén procesados y listos, haz el siguiente análisis:\n",
        "\n",
        "[A] (deben completarse todos para aprobar)\n",
        "\n",
        "* Verifica que los valores en las columnas 'order_hour_of_day' y 'order_dow' de la tabla orders sean razonables (o sea, 'order_hour_of_day' va de 0 a 23 y 'order_dow' va de 0 a 6).\n",
        "* Crea un gráfico que muestre el número de personas que hacen pedidos dependiendo de la hora del día.\n",
        "* Crea un gráfico que muestre qué día de la semana la gente hace sus compras.\n",
        "* Crea un gráfico que muestre el tiempo que la gente espera hasta hacer su próximo pedido, y comenta los valores mínimos y máximos.\n",
        "\n",
        "[B] (deben completarse todos para aprobar)\n",
        "* ¿Hay alguna diferencia en las distribuciones de 'order_hour_of_day' en miércoles y sábados? Traza los histogramas de ambos días en el mismo gráfico y describe las diferencias que observes.\n",
        "* Traza la distribución del número de pedidos que hacen los clientes y las clientas (por ejemplo, cuántos clientes hicieron un solo pedido, cuántos hicieron solo dos, cuántos solo tres, etc.)\n",
        "* ¿Cuáles son los 20 principales productos que se piden con más frecuencia (muestra su identificación y nombre)?\n",
        "\n",
        "[C] (deben completarse todos para aprobar)\n",
        "\n",
        "* ¿Cuántos artículos compra la gente por lo general en un pedido? ¿Cómo es la distribución?\n",
        "* ¿Cuáles son los 20 principales artículos que se vuelven a pedir con más frecuencia (muestra sus nombres e identificaciones de producto)?\n",
        "* Para cada producto, ¿qué proporción de sus pedidos se vuelven a pedir (crea una tabla con columnas para el ID del producto, el nombre del producto y la proporción en que se ha vuelto a comprar)?\n",
        "* ¿Cuál es la proporción de productos pedidos que se vuelven a pedir para cada cliente?\n",
        "* ¿Cuáles son los 20 principales artículos que la gente pone en sus carritos primero (muestra las identificaciones de los productos, los nombres de los productos y el número de veces que fueron el primer artículo añadido al carrito)?"
      ]
    },
    {
      "cell_type": "markdown",
      "id": "4a39a447-5b7f-4391-a362-18cf164850e1",
      "metadata": {},
      "source": [
        "# ¡Llena ese carrito!"
      ]
    },
    {
      "cell_type": "markdown",
      "id": "ea1cf921-c8ef-455d-9449-6d89f2e030d8",
      "metadata": {},
      "source": [
        "# Introducción\n",
        "\n",
        "Instacart es una plataforma de entregas de comestibles donde la clientela puede registrar un pedido y hacer que se lo entreguen, similar a Uber Eats y Door Dash.\n",
        "El conjunto de datos que te hemos proporcionado tiene modificaciones del original. Redujimos el tamaño del conjunto para que tus cálculos se hicieran más rápido e introdujimos valores ausentes y duplicados. Tuvimos cuidado de conservar las distribuciones de los datos originales cuando hicimos los cambios.\n",
        "\n",
        "Debes completar tres pasos. Para cada uno de ellos, escribe una breve introducción que refleje con claridad cómo pretendes resolver cada paso, y escribe párrafos explicatorios que justifiquen tus decisiones al tiempo que avanzas en tu solución.  También escribe una conclusión que resuma tus hallazgos y elecciones."
      ]
    },
    {
      "cell_type": "markdown",
      "id": "53cd233c-6183-4054-8975-5b0d898f73e0",
      "metadata": {},
      "source": [
        "# Paso 1. Descripción de los datos\n",
        "\n",
        "Lee los archivos de datos (`/datasets/instacart_orders.csv`, `/datasets/products.csv`, `/datasets/aisles.csv`, `/datasets/departments.csv` y `/datasets/order_products.csv`) con `pd.read_csv()` usando los parámetros adecuados para leer los datos correctamente. Verifica la información para cada DataFrame creado."
      ]
    },
    {
      "cell_type": "markdown",
      "id": "ec310340-c80b-4b39-8686-3fc0381007d7",
      "metadata": {},
      "source": [
        "## Plan de solución\n",
        "\n",
        "Escribe aquí tu plan de solución para el Paso 1. Descripción de los datos."
      ]
    },
    {
      "cell_type": "code",
      "execution_count": null,
      "id": "e1df9e97-5afd-4e4c-8e1d-f75c329f5cac",
      "metadata": {
        "trusted": true
      },
      "outputs": [
        {
          "ename": "",
          "evalue": "",
          "output_type": "error",
          "traceback": [
            "\u001b[1;31mRunning cells with '.conda (Python 3.11.13)' requires the ipykernel package.\n",
            "\u001b[1;31m<a href='command:jupyter.createPythonEnvAndSelectController'>Create a Python Environment</a> with the required packages.\n",
            "\u001b[1;31mOr install 'ipykernel' using the command: 'conda install -n .conda ipykernel --update-deps --force-reinstall'"
          ]
        }
      ],
      "source": [
        "# importar librerías\n",
        "import pandas as pd\n",
        "from matplotlib import pyplot as plt"
      ]
    },
    {
      "cell_type": "code",
      "execution_count": null,
      "id": "01336bcd-b0c8-4109-8ae5-d26cbcb71488",
      "metadata": {
        "trusted": true
      },
      "outputs": [],
      "source": [
        "# leer conjuntos de datos en los DataFrames\n",
        "df_ins_ord = pd.read_csv('instacart_orders.csv', # leemos el archivo csv\n",
        "                         sep = ';')                           # cada dato está separado por ';'\n",
        "\n",
        "df_prd = pd.read_csv('products.csv',            \n",
        "                     sep = ';')                                # cada dato está separado por ';'\n",
        "\n",
        "df_aisles = pd.read_csv('aisles.csv',\n",
        "                        sep = ';')                             # cada dato está separado por ';'\n",
        "\n",
        "df_dep = pd.read_csv('departments.csv',\n",
        "                     sep = ';')                                # cada dato está separado por ';'\n",
        "\n",
        "df_ord_prd = pd.read_csv('order_products.csv',\n",
        "                         sep = ';')                            # cada dato está separado por ';'"
      ]
    },
    {
      "cell_type": "code",
      "execution_count": null,
      "id": "68ba5b45-a206-4816-a9f5-b3bb8ea90997",
      "metadata": {
        "trusted": true
      },
      "outputs": [],
      "source": [
        "# mostrar información del DataFrame\n",
        "df_ins_ord.info()"
      ]
    },
    {
      "cell_type": "code",
      "execution_count": null,
      "id": "c111850b-a3e8-4b91-bba2-bc2991513345",
      "metadata": {
        "trusted": true
      },
      "outputs": [],
      "source": [
        "# mostrar información del DataFrame\n",
        "df_prd.info()"
      ]
    },
    {
      "cell_type": "code",
      "execution_count": null,
      "id": "14ac0863-c245-4053-9b43-f49099a3579c",
      "metadata": {
        "trusted": true
      },
      "outputs": [],
      "source": [
        "# mostrar información del DataFrame\n",
        "df_aisles.info()"
      ]
    },
    {
      "cell_type": "code",
      "execution_count": null,
      "id": "fafe1a79-5b91-4010-8c01-893ec2543b2a",
      "metadata": {
        "trusted": true
      },
      "outputs": [],
      "source": [
        "# mostrar información del DataFrame\n",
        "df_dep.info()"
      ]
    },
    {
      "cell_type": "code",
      "execution_count": null,
      "id": "0cfb10b1-44ff-40ab-9d31-a5b2f831d290",
      "metadata": {
        "trusted": true
      },
      "outputs": [],
      "source": [
        "# mostrar información del DataFrame\n",
        "df_ord_prd.info(show_counts=True)"
      ]
    },
    {
      "cell_type": "markdown",
      "id": "474f36a6-f894-4912-aefd-a430d7375b06",
      "metadata": {},
      "source": [
        "## Conclusiones\n",
        "\n",
        "Escribe aquí tus conclusiones intermedias sobre el Paso 1. Descripción de los datos.\n",
        "\n",
        "Fue necesario separar los datos por punto y coma (;). La mayoría de los datos de los dataframes son enteros; de igual manera, tenemos objetos y flotantes. De primera vista, parece que tenemos valores ausentes en algunos datasets que tienen tipos objeto y nulos.\n",
        "\n",
        "Para el dataset de \"order_products\" tenemos más de cuatro millones de datos. Al abrir el archivo csv solamente se desplegaron un poco más de un millón de celdas. Ahora tenemos un mejor conjunto de datos. "
      ]
    },
    {
      "cell_type": "markdown",
      "id": "c08207bd-4fd8-45d9-b198-66b8b39679a3",
      "metadata": {},
      "source": [
        "# Paso 2. Preprocesamiento de los datos\n",
        "\n",
        "Preprocesa los datos de la siguiente manera:\n",
        "\n",
        "- Verifica y corrige los tipos de datos (por ejemplo, asegúrate de que las columnas de ID sean números enteros).\n",
        "- Identifica y completa los valores ausentes.\n",
        "- Identifica y elimina los valores duplicados.\n",
        "\n",
        "Asegúrate de explicar qué tipos de valores ausentes y duplicados encontraste, cómo los completaste o eliminaste y por qué usaste esos métodos. ¿Por qué crees que estos valores ausentes y duplicados pueden haber estado presentes en el conjunto de datos?"
      ]
    },
    {
      "cell_type": "markdown",
      "id": "0fdae501-ec83-47f0-bdbe-28e4c7d15a95",
      "metadata": {},
      "source": [
        "## Plan de solución\n",
        "\n",
        "Escribe aquí tu plan para el Paso 2. Preprocesamiento de los datos.\n",
        "\n",
        "Vamos a eliminar los duplicados de cada dataframe empleando principalmente 'drop_duplicates()'. Para llenar los valores ausentes, utilizaremos 'fillna()'. De ser necesario, daremos formato a los datos para evitar malas lecturas. Procuraré dejar comentarios en las líneas de código explicando el procedimiento que hice o la salida esperada."
      ]
    },
    {
      "cell_type": "markdown",
      "id": "1f5a3115-2f0b-4d21-a9c5-30e05a9d858e",
      "metadata": {},
      "source": [
        "## Encuentra y elimina los valores duplicados (y describe cómo tomaste tus decisiones)."
      ]
    },
    {
      "cell_type": "markdown",
      "id": "19b7b571-757a-4099-84ef-62173165f703",
      "metadata": {},
      "source": [
        "### `orders` data frame"
      ]
    },
    {
      "cell_type": "code",
      "execution_count": null,
      "id": "b2586809-e40a-4ec3-9a54-f48f960a4603",
      "metadata": {
        "scrolled": true,
        "trusted": true
      },
      "outputs": [],
      "source": [
        "# Revisa si hay pedidos duplicados\n",
        "\n",
        "# Para saber el número de pedidos duplicados\n",
        "print(f'Hay',df_ins_ord['order_id'].duplicated().sum(),'pedidos duplicados en el dataframe instacart_oders') \n",
        "\n",
        "# Mostramos las filas duplicadas en el dataframe\n",
        "duplicados_ins_ord = df_ins_ord[df_ins_ord['order_id'].duplicated()] \n",
        "print(duplicados_ins_ord)\n",
        "\n",
        "print()\n",
        "# Mostramos cuántos valores únicos para la hora hay. Esperamos encontrar máximo 24, lo que diría que se comparon artículos en todas las horas del día\n",
        "print(f'Tenemos',df_ins_ord['order_hour_of_day'].nunique(),'valores únicos, que representan las horas del día') "
      ]
    },
    {
      "cell_type": "markdown",
      "id": "027f9ec9-b5bf-473c-80a8-474fd8393de5",
      "metadata": {},
      "source": [
        "¿Tienes líneas duplicadas? Si sí, ¿qué tienen en común?\n",
        "\n",
        "Tenemos 15 duplicados. Todos los duplicados comparten el mismo día de la semana en el que se hzio la orden (miércoles) y la hora en la que se hizo el pedido (2 am). "
      ]
    },
    {
      "cell_type": "code",
      "execution_count": null,
      "id": "b5bf60d0-d166-40fb-82ec-064fd070702e",
      "metadata": {
        "trusted": true
      },
      "outputs": [],
      "source": [
        "# Basándote en tus hallazgos,\n",
        "# Verifica todos los pedidos que se hicieron el miércoles a las 2:00 a.m.\n",
        "\n",
        "# Filtramos por día 3(miércoles) y hora 2 (2:00 am) \n",
        "wed_2_orders = df_ins_ord.loc[(df_ins_ord['order_dow'] == 3) & (df_ins_ord['order_hour_of_day'] == 2)]\n",
        "\n",
        "print(wed_2_orders)"
      ]
    },
    {
      "cell_type": "markdown",
      "id": "8183cc68-24d7-4a98-9940-ec77d7295565",
      "metadata": {},
      "source": [
        "¿Qué sugiere este resultado?\n",
        "\n",
        "Hay varias filas (121) que muestran a usuarios comprando algo el miércoles a las 2 am, 15 de estos son duplicados. Podríamos obtener información extra si nos centramos en el número de orden del usuario o los días que pasaron desde su último pedido."
      ]
    },
    {
      "cell_type": "code",
      "execution_count": null,
      "id": "648db3ee-a4a7-466d-bddb-cb3dfccb8ba3",
      "metadata": {
        "trusted": true
      },
      "outputs": [],
      "source": [
        "# Elimina los pedidos duplicados\n",
        "\n",
        "# Borramos los 15 duplicados del dataset\n",
        "df_ins_ord = df_ins_ord.drop_duplicates() \n",
        "\n",
        "df_ins_ord.info()  # Deberíamos tener la diferencia de entre 478967 (filas obtenidas de info()) y 15"
      ]
    },
    {
      "cell_type": "code",
      "execution_count": null,
      "id": "ed7edb5f-4224-4244-8a01-a19bc02034e2",
      "metadata": {
        "trusted": true
      },
      "outputs": [],
      "source": [
        "# Vuelve a verificar si hay filas duplicadas\n",
        "\n",
        "print(f'Hay',df_ins_ord.duplicated().sum(),'duplicados en el dataframe instacart_oders')"
      ]
    },
    {
      "cell_type": "code",
      "execution_count": null,
      "id": "cdd07bd6-99ae-484c-9d4f-b6f293903b95",
      "metadata": {
        "trusted": true
      },
      "outputs": [],
      "source": [
        "# Vuelve a verificar únicamente si hay IDs duplicados de pedidos\n",
        "\n",
        "print(df_ins_ord['order_id'].duplicated().sum())"
      ]
    },
    {
      "cell_type": "markdown",
      "id": "721b177e-92f8-41a7-8419-0c6b29957c03",
      "metadata": {},
      "source": [
        "Describe brevemente tus hallazgos y lo que hiciste con ellos\n",
        "\n",
        "Para el dataset instacart_orders de 478967 filas, encontramos 15 duplicados. Los duplicados tenían la peculiar característica de compartir día de la semana en que se hizo el pedido (miércoles) y hora del pedido (2 am). Encontramos 106 usuarios que compraron algo el miércoles a las 2 am. \n",
        "\n",
        "Hay valores ausentes en la columna 'days_since_prior_order'. Se asumieron como nuevos usuarios porque no hay registro de su última compra; dicho esto, no hicimos cambios en la columna (siguen los valores nulos) porque al cambiar por algún valor, corremos el riesgo de perder ese dato, al dejar la celda nula podemos identificar a nuevos usuarios. Más adelante trataremos los valores nulos."
      ]
    },
    {
      "cell_type": "markdown",
      "id": "b10fe9da-3880-48b1-b1a4-1105df4ad717",
      "metadata": {},
      "source": [
        "### `products` data frame"
      ]
    },
    {
      "cell_type": "code",
      "execution_count": null,
      "id": "e36baaca-63ea-4a73-92b0-44042378d0cb",
      "metadata": {
        "trusted": true
      },
      "outputs": [],
      "source": [
        "# Verifica si hay filas totalmente duplicadas\n",
        "\n",
        "print(f'Hay',df_prd.duplicated().sum(),'duplicados en el dataframe \"products\"')"
      ]
    },
    {
      "cell_type": "code",
      "execution_count": null,
      "id": "4565d8b3-cd5a-42f5-809a-c46e77e713b0",
      "metadata": {
        "trusted": true
      },
      "outputs": [],
      "source": [
        "# Revisa únicamente si hay ID de departamentos duplicados\n",
        "\n",
        "print(f'Hay',df_prd['department_id'].duplicated().sum(), 'departamentos duplicados')"
      ]
    },
    {
      "cell_type": "code",
      "execution_count": null,
      "id": "e580e75f-4aa1-4386-9ffd-ff9a11b45350",
      "metadata": {
        "trusted": true
      },
      "outputs": [],
      "source": [
        "# Revisa únicamente si hay nombres duplicados de productos (convierte los nombres a letras mayúsculas para compararlos mejor)\n",
        "\n",
        "df_prd['product_name'] = df_prd['product_name'].str.upper() # Cambiamos todos los objetos a formato mayúsculas\n",
        "\n",
        "print(f'Hay',df_prd['product_name'].duplicated().sum(), 'nombres de productos duplicados')"
      ]
    },
    {
      "cell_type": "code",
      "execution_count": null,
      "id": "8ce897d4-1972-4d5b-ab9e-145e49f4d664",
      "metadata": {
        "trusted": true
      },
      "outputs": [],
      "source": [
        "# Revisa si hay nombres duplicados de productos no faltantes\n",
        "\n",
        "not_null_prd = df_prd[df_prd['product_name'].notnull()]                # Creamos not_null_prd que almacena un dataframe sin valores nulos para la columna 'product_name'\n",
        "\n",
        "not_null_prd = not_null_prd[not_null_prd['product_name'].duplicated()] # Encontramos los duplicados, de un dataframe libre de valores nulos\n",
        "\n",
        "print(f'Excluyendo los valores nulos, hay:',not_null_prd['product_name'].nunique(),'product_name duplicados')"
      ]
    },
    {
      "cell_type": "code",
      "execution_count": null,
      "id": "36527a9e-464f-43bf-8b15-70ec5ef13edf",
      "metadata": {
        "trusted": true
      },
      "outputs": [],
      "source": [
        "# Eliminamos los duplicados \n",
        "\n",
        "# df_prd = df_prd[df_prd['product_name'].notnull()]\n",
        "\n",
        "# df_prd.drop_duplicates(subset=['product_name'], inplace = True)\n",
        "\n",
        "# df_prd.info()"
      ]
    },
    {
      "cell_type": "code",
      "execution_count": null,
      "id": "ad6cd0d7-440d-45bc-a5b3-3d5a72e159cd",
      "metadata": {
        "trusted": true
      },
      "outputs": [],
      "source": [
        "# Contar departamentos y pasillos vacíos \n",
        "\n",
        "# Con este código confirmamos que todos los valores nulos para product_name, caen en un pasillo y departamentos \"faltantes\" \n",
        "# empty_prd = df_prd.loc[df_prd['department_id'] == 21]\n",
        "\n",
        "# print(empty_prd.count())"
      ]
    },
    {
      "cell_type": "code",
      "execution_count": null,
      "id": "97c0d68b-e0e3-42f5-8c99-d9f666b5723c",
      "metadata": {
        "scrolled": true,
        "trusted": true
      },
      "outputs": [],
      "source": [
        "# Eliminamos los ausentes\n",
        "\n",
        "# df_prd = df_prd.dropna().reset_index(drop=True)\n",
        "\n",
        "# df_prd.info()"
      ]
    },
    {
      "cell_type": "markdown",
      "id": "b689951c-24da-4cef-827b-da99f1ed25f4",
      "metadata": {},
      "source": [
        "Describe brevemente tus hallazgos y lo que hiciste con ellos.\n",
        "\n",
        "El dataframe de \"products\" no contiene filas totalmente duplicadas. Tenemos 49673 departamentos duplicados, al haber solo 21 categorías, esto quiere decir que todos los valores están duplicados. Conservamos estos datos ya que hay productos que caen en el mismo departamento y borrar los duplicados sería un error. \n",
        "\n",
        "Para la columna \"product_name\" tenemos 1258 valores nulos, que trataremos más adelante. Excluyendo los valores nulos, tenemos 103 valores duplicados. Al haber una tarea más adelante en el proyecto que requiere tratar los valores nulos, eliminaré ahí mismo los duplicados de 'product_name'. Corroboré en el csv que, a pesar de que hay productos con el mismo nombre, muchos tienen un identificador diferente, a excepción de los 103 duplicados. Por esta razón, decido eliminarlos más adelante. \n"
      ]
    },
    {
      "cell_type": "markdown",
      "id": "8928a083-03db-4d83-be18-38e5fe57482a",
      "metadata": {},
      "source": [
        "### `departments` data frame"
      ]
    },
    {
      "cell_type": "code",
      "execution_count": null,
      "id": "dbf2d9e1-f2df-49a9-86ba-99bf8e68a373",
      "metadata": {
        "trusted": true
      },
      "outputs": [],
      "source": [
        "# Revisa si hay filas totalmente duplicadas\n",
        "print(f'Hay',df_dep.duplicated().sum(),'duplicados en el dataframe \"departments\"')"
      ]
    },
    {
      "cell_type": "code",
      "execution_count": null,
      "id": "f590882e-0a8f-4f99-bf72-a55d6074cd0e",
      "metadata": {
        "trusted": true
      },
      "outputs": [],
      "source": [
        "# Revisa únicamente si hay IDs duplicadas de productos\n",
        "print(f'Hay',df_dep['department_id'].duplicated().sum(), 'departamentos duplicados')"
      ]
    },
    {
      "cell_type": "markdown",
      "id": "cd1c4b66-b947-48cb-b216-60e622eb4330",
      "metadata": {},
      "source": [
        "Describe brevemente tus hallazgos y lo que hiciste con ellos.\n",
        "\n",
        "Es un dataset pequeño de 21 filas. No contiene duplicados y no se repite el nombre del departamento. Tiene un departamento cuyo nombre es \"ausente\".\n"
      ]
    },
    {
      "cell_type": "markdown",
      "id": "11f51a6f-560f-4632-a0df-86e31a3c7e07",
      "metadata": {},
      "source": [
        "### `aisles` data frame"
      ]
    },
    {
      "cell_type": "code",
      "execution_count": null,
      "id": "3d2971f4-ba22-4dd3-8372-bdefadf143ad",
      "metadata": {
        "trusted": true
      },
      "outputs": [],
      "source": [
        "# Revisa si hay filas totalmente duplicadas\n",
        "print(f'Hay',df_aisles.duplicated().sum(),'duplicados en el dataframe \"aisles\"')"
      ]
    },
    {
      "cell_type": "code",
      "execution_count": null,
      "id": "07cc7886-7c1d-4750-a29d-ba6a99a16df7",
      "metadata": {
        "trusted": true
      },
      "outputs": [],
      "source": [
        "# Revisa únicamente si hay IDs duplicadas de pasillos\n",
        "print(f'Hay',df_aisles['aisle_id'].duplicated().sum(), 'id de pasillos duplicados')"
      ]
    },
    {
      "cell_type": "code",
      "execution_count": null,
      "id": "5ce57499-9bf7-4424-ae66-be3369690102",
      "metadata": {
        "trusted": true
      },
      "outputs": [],
      "source": [
        "# Comprobar nombres únicos de pasillos\n",
        "print(f'Hay',df_aisles['aisle'].duplicated().sum(), 'pasillos duplicados')"
      ]
    },
    {
      "cell_type": "markdown",
      "id": "a85e689d-f5fd-4e7c-92fd-8e32f2d670d5",
      "metadata": {},
      "source": [
        "Describe brevemente tus hallazgos y lo que hiciste con ellos.\n",
        "\n",
        "Es un dataset pequeño de 134 valores. No contiene duplicados y no se repite el nombre ni identificador del pasillo. Tiene un pasillo \"ausente\"."
      ]
    },
    {
      "cell_type": "markdown",
      "id": "933c0450-bf4c-49a3-93b8-06ffc372e23b",
      "metadata": {},
      "source": [
        "### `order_products` data frame"
      ]
    },
    {
      "cell_type": "code",
      "execution_count": null,
      "id": "7653993c-8d6f-4477-b8dc-e0299a2b6809",
      "metadata": {
        "trusted": true
      },
      "outputs": [],
      "source": [
        "# Revisa si hay filas totalmente duplicadas\n",
        "print(f'Hay',df_ord_prd.duplicated().sum(), 'duplicados en el dataframe')"
      ]
    },
    {
      "cell_type": "code",
      "execution_count": null,
      "id": "6385dfcc-e992-4428-9609-02d93e408071",
      "metadata": {
        "trusted": true
      },
      "outputs": [],
      "source": [
        "# Vuelve a verificar si hay cualquier otro duplicado engañoso\n",
        "\n",
        "print(f'Hay',df_ord_prd['order_id'].duplicated().sum(), 'órdenes duplicadas')     # Obtenemos las order_id duplicadas\n",
        "print(f'Hay',df_ord_prd['product_id'].duplicated().sum(), 'productos duplicados') # Obtenemos los product_id duplicados "
      ]
    },
    {
      "cell_type": "markdown",
      "id": "61583649-92c3-4adc-91b9-ae571a04fc97",
      "metadata": {},
      "source": [
        "Al haber muchos valores duplicados tanto de órdenes y productos, vamos a asegurarnos de que no hay que eliminarlos o modificarlos. Podemos confirmarlo con los métodos plasmados a continuación."
      ]
    },
    {
      "cell_type": "code",
      "execution_count": null,
      "id": "6f482c72-ccca-448c-ba70-4985f604460f",
      "metadata": {
        "trusted": true
      },
      "outputs": [],
      "source": [
        "# Contamos valores únicos\n",
        "\n",
        "print(f'Hay',df_ord_prd['order_id'].nunique(), 'órdenes únicas')     # Devuelve el número de order_id únicos\n",
        "print(f'Hay',df_ord_prd['product_id'].nunique(), 'productos únicos') # Devuelve el número de product_id únicos"
      ]
    },
    {
      "cell_type": "markdown",
      "id": "13781a91-ac07-4f4b-b5f0-5318dee3139d",
      "metadata": {},
      "source": [
        "Comparamos los datos contra df_ord_prd.info(). La suma de los valores únicos y duplicados debería ser igual al número de filas mostradas en df_ord_prd.info()\n",
        "\n",
        "| Columna 1       | Duplicados       | Valores únicos  | Suma|\n",
        "|------------------|-----------------|-----------------|-|\n",
        "| order_id    |  4,094,961    | 450,046    | 4,545,007 |\n",
        "| product_id    |  4,499,434    | 45,573    | 4,545,007 |\n"
      ]
    },
    {
      "cell_type": "code",
      "execution_count": null,
      "id": "1ea35fe3-4318-4a19-8e42-7079db24c8a1",
      "metadata": {
        "scrolled": true,
        "trusted": true
      },
      "outputs": [],
      "source": [
        "# Agrupamos para tener otra visión de los duplicados\n",
        "\n",
        "# Agrupamos por order_id\n",
        "grp_order_id = df_ord_prd.groupby('order_id')['product_id'] # Agrupando por \"order_id\" cuenta cuántos productos hay por order_id\n",
        "\n",
        "# Deberíamos confirmar que hay 450,046 órdenes únicas \n",
        "print(grp_order_id.count())"
      ]
    },
    {
      "cell_type": "code",
      "execution_count": null,
      "id": "f63a7367-a63c-46bd-82c0-3ad3d7ffd422",
      "metadata": {
        "trusted": true
      },
      "outputs": [],
      "source": [
        "# Nulos add_to_cart_order\n",
        "\n",
        "#print(df_ord_prd['add_to_cart_order'].isna().sum())\n",
        "\n",
        "# duplicados = df_ord_prd[df_ord_prd['add_to_cart_order'].isna()]\n",
        "# print(duplicados)\n",
        "\n",
        "# unique_add_cart = df_ord_prd['add_to_cart_order'].unique()\n",
        "# print(unique_add_cart)"
      ]
    },
    {
      "cell_type": "code",
      "execution_count": null,
      "id": "22366cb0-04cf-4b16-b676-45a338bc1a9f",
      "metadata": {
        "trusted": true
      },
      "outputs": [],
      "source": [
        "# Eliminar nulos \n",
        "# df_ord_prd = df_ord_prd.dropna().reset_index(drop=True) #Eliminamos los nulos porque no se añadieron al carrito\n",
        "\n",
        "# df_ord_prd.info(show_counts=True)"
      ]
    },
    {
      "cell_type": "markdown",
      "id": "8f7b8973-0304-4124-9ead-443d3ef5e14d",
      "metadata": {},
      "source": [
        "Describe brevemente tus hallazgos y lo que hiciste con ellos.\n",
        "\n",
        "\n",
        "El dataframe 'order_products' no contiene ninguna fila completamente duplicada. No obstante, hay *4,094,961* órdenes duplicadas. Al ser gran parte de nuestros datos, nos aseguramos porqué están presentes. Descubrimos que solamente hay *450,046* valores únicos de order_id. Cada repetición de order_id representa que el usuario adquirió otro producto. Lo confirmamos al agrupalos, donde order_id **3421034** se repite 17 veces, cada una para un producto diferente. \n",
        "\n",
        "No procesamos los duplicados. "
      ]
    },
    {
      "cell_type": "markdown",
      "id": "5a3eb501-82f0-44de-bc5a-064d0d192bd7",
      "metadata": {},
      "source": [
        "## Encuentra y elimina los valores ausentes\n",
        "\n",
        "Al trabajar con valores duplicados, pudimos observar que también nos falta investigar valores ausentes:\n",
        "\n",
        "* La columna `'product_name'` de la tabla products.\n",
        "* La columna `'days_since_prior_order'` de la tabla orders.\n",
        "* La columna `'add_to_cart_order'` de la tabla order_productos."
      ]
    },
    {
      "cell_type": "markdown",
      "id": "88818642-9923-49c3-bb8a-b94a9cf1d2c1",
      "metadata": {},
      "source": [
        "### `products` data frame"
      ]
    },
    {
      "cell_type": "code",
      "execution_count": null,
      "id": "c0668cb0-2283-46ed-87d0-861fb5a4b514",
      "metadata": {
        "trusted": true
      },
      "outputs": [],
      "source": [
        "# Encuentra los valores ausentes en la columna 'product_name'\n",
        "\n",
        "# Identificamos si hay valores nulos en nombres de producto\n",
        "print(f'Hay',df_prd['product_name'].isna().sum(),'valores nulos en la columna \"product_name\" del dataframe products') # El resultado debería concordar con lo mostrado en dt_prd.info()"
      ]
    },
    {
      "cell_type": "markdown",
      "id": "0231cbd2-daf9-4ae8-a970-07eb56531990",
      "metadata": {},
      "source": [
        "Describe brevemente cuáles son tus hallazgos.\n",
        "\n",
        "Encontramos 1258 valores nulos para el nombre de los productos. El resultado concuerda con lo dt_prd.info(), que dice que hay 49694 filas de datos, pero para la columna de \"product_name\" solamente tenemos 48436. La diferencia entre ellos es 1258, que son valores nulos \n"
      ]
    },
    {
      "cell_type": "code",
      "execution_count": null,
      "id": "38f7443e-7e5b-4692-b462-293fb0ac12bf",
      "metadata": {
        "trusted": true
      },
      "outputs": [],
      "source": [
        "#  ¿Todos los nombres de productos ausentes están relacionados con el pasillo con ID 100?\n",
        "\n",
        "# Con este código confirmamos que todos los valores nulos para product_name, caen en un pasillo y departamentos \"faltante\" \n",
        "empty_prd_aisle = df_prd.loc[df_prd['aisle_id'] == 100]\n",
        "print(empty_prd_aisle.count())"
      ]
    },
    {
      "cell_type": "markdown",
      "id": "36014a14-75a9-4995-a771-1c321f6d0ebe",
      "metadata": {},
      "source": [
        "Describe brevemente cuáles son tus hallazgos.\n",
        "\n",
        "Filtramos el dataframe para que localice aquellos \"aisle_id\" con valor de 100. El pasillo 100 tiene valor *missing*. Nos dice que todos los nulos no tienen pasillo asignado. Confirmamos que el valor 100 en el *csv aisles* es *missing*.\n"
      ]
    },
    {
      "cell_type": "code",
      "execution_count": null,
      "id": "3a90ce04-f70b-42d9-9666-0a8fe562b90a",
      "metadata": {
        "trusted": true
      },
      "outputs": [],
      "source": [
        "# ¿Todos los nombres de productos ausentes están relacionados con el departamento con ID 21?\n",
        "\n",
        "# Con este código confirmamos que todos los valores nulos para product_name, caen en un departamentos \"faltante\" \n",
        "empty_prd_dpt = df_prd.loc[df_prd['department_id'] == 21]\n",
        "\n",
        "print(empty_prd_dpt.count())"
      ]
    },
    {
      "cell_type": "markdown",
      "id": "7cd6767e-34e5-4371-a476-a58d2e29ae6b",
      "metadata": {},
      "source": [
        "Describe brevemente cuáles son tus hallazgos.\n",
        "\n",
        "Filtramos el dataframe para que localice aquellos \"department_id\" con valor de 21. El departamento 21 tiene valor *missing*. Nos dice que todos los nulos no tienen departamento. Confirmamos que el valor 21 en el *csv departments* es *missing*.\n"
      ]
    },
    {
      "cell_type": "code",
      "execution_count": null,
      "id": "ea89fafb-cb66-4100-a819-c9665852b216",
      "metadata": {
        "trusted": true
      },
      "outputs": [],
      "source": [
        "# Usa las tablas department y aisle para revisar los datos del pasillo con ID 100 y el departamento con ID 21.\n",
        "\n",
        "department_21 = df_dep[df_dep['department_id'] == 21] # Localizamos el \"department_id\" con valor 21\n",
        "\n",
        "aisle_100 = df_aisles[df_aisles['aisle_id'] == 100] # Localizamos el \"aisle_id\" con valor 100\n",
        "\n",
        "print(department_21) # Al imprimir, debería arrojar la fila con el valor \"missing\"\n",
        "print(aisle_100) # Al imprimir, debería arrojar la fila con el valor \"missing\""
      ]
    },
    {
      "cell_type": "markdown",
      "id": "5165d17a-2d47-417b-98e0-eba9dfa439f0",
      "metadata": {},
      "source": [
        "Describe brevemente cuáles son tus hallazgos.\n",
        "\n",
        "Confirmamos que ambos valores *missing* están presentes en las posiciones 21 y 100 de los dataframes -*departments* y *asiles* respectivamente."
      ]
    },
    {
      "cell_type": "code",
      "execution_count": null,
      "id": "cf115951-9a8f-4299-a822-9043ef889c1c",
      "metadata": {
        "trusted": true
      },
      "outputs": [],
      "source": [
        "# Completa los nombres de productos ausentes con 'Unknown'\n",
        "\n",
        "df_prd = df_prd.fillna('unknown').reset_index(drop=True) # Llenamos con fillna los valoes nulos con unknown"
      ]
    },
    {
      "cell_type": "code",
      "execution_count": null,
      "id": "f3d25289-fb89-41a0-82e2-696c681bd329",
      "metadata": {
        "trusted": true
      },
      "outputs": [],
      "source": [
        "# Confirmamos que no hay valores nulos \n",
        "print(df_prd.isna().sum())"
      ]
    },
    {
      "cell_type": "markdown",
      "id": "81e68f28-6923-4de5-a2dd-ba1fae063fbe",
      "metadata": {},
      "source": [
        "Describe brevemente tus hallazgos y lo que hiciste con ellos.\n",
        "\n",
        "Una vez que confirmamos que todos los valores nulos caen en las categorías *missing* del departamento y pasillo, reemplazamos los valores con \"unknown\". Luego llamamos a info() para asegurarnos de que ya no haya valores nulos. "
      ]
    },
    {
      "cell_type": "markdown",
      "id": "1923d07d-5918-4483-97f4-03aade3c85ce",
      "metadata": {},
      "source": [
        "### `orders` data frame"
      ]
    },
    {
      "cell_type": "code",
      "execution_count": null,
      "id": "8738eeea-bb7c-4a64-b45f-d358a7c8edaa",
      "metadata": {
        "trusted": true
      },
      "outputs": [],
      "source": [
        "# Encuentra los valores ausentes\n",
        "\n",
        "print(df_ins_ord.isna().sum())"
      ]
    },
    {
      "cell_type": "code",
      "execution_count": null,
      "id": "148ebe11-695e-4385-aaab-c66d735511e9",
      "metadata": {
        "scrolled": true,
        "trusted": true
      },
      "outputs": [],
      "source": [
        "# ¿Hay algún valor ausente que no sea el primer pedido del cliente?\n",
        "\n",
        "# Filtramos para confirmar que no haya clientes con valor nulo en 'days_since_prior_order', cuando su pedido sea mayor a 1. El valor mayor a 1 representa que han comprado antes\n",
        "missing_not_first = df_ins_ord[(df_ins_ord['days_since_prior_order'].isna()) & (df_ins_ord['order_number'] > 1)] \n",
        "\n",
        "print(missing_not_first)"
      ]
    },
    {
      "cell_type": "code",
      "execution_count": null,
      "id": "a01a744b-579f-4877-839d-341f02b1afba",
      "metadata": {
        "trusted": true
      },
      "outputs": [],
      "source": [
        "# Reemplazamos los nulos en 'days_since_prior_order' y convertimos la columna a enteros\n",
        "\n",
        "df_ins_ord['days_since_prior_order'].fillna(-1, inplace=True)\n",
        "\n",
        "df_ins_ord['days_since_prior_order'] = df_ins_ord['days_since_prior_order'].astype(int)\n",
        "\n",
        "print(df_ins_ord.info())"
      ]
    },
    {
      "cell_type": "markdown",
      "id": "363c03f7-a624-410e-9c6f-0ed535d78277",
      "metadata": {},
      "source": [
        "Describe brevemente tus hallazgos y lo que hiciste con ellos.\n",
        "\n",
        "Encontramos 28,817 datos ausentes en la columna 'days_since_prior_order'. Confirmamos que todos los valores nulos de esta columna están relacionados con el \"order_number\" 1, que dice que es el primer pedido del usuario.\n",
        "Los valores ausentes los reemplacé con \"-1\". Me hizo sentido que este valor fuera diferente y no comprometa los datos existentes. Asimismo, cambié los valores de la columna 'days_since_prior_order' a enteros. Ahora no tenemos valores nulos en el dataframe.  "
      ]
    },
    {
      "cell_type": "markdown",
      "id": "654d3185-3ddc-4137-897f-5aa501562edc",
      "metadata": {},
      "source": [
        "### `order_products` data frame"
      ]
    },
    {
      "cell_type": "code",
      "execution_count": null,
      "id": "8f454f00-d181-473b-b875-e8afd6b2bf22",
      "metadata": {
        "trusted": true
      },
      "outputs": [],
      "source": [
        "# Encuentra los valores ausentes\n",
        "\n",
        "print(df_ord_prd.isna().sum()) # Buscamos los valores nulos de cada columna del dataframe df_ord_prd"
      ]
    },
    {
      "cell_type": "code",
      "execution_count": null,
      "id": "5d5f7519-7dc7-4cb6-8f10-b84e81f77813",
      "metadata": {
        "trusted": true
      },
      "outputs": [],
      "source": [
        "# ¿Cuáles son los valores mínimos y máximos en esta columna?\n",
        "\n",
        "min_value = df_ord_prd['add_to_cart_order'].min() # Valor mínimo de la columna add_to_cart_order\n",
        "\n",
        "max_value = df_ord_prd['add_to_cart_order'].max() # Varlo máximo de la columna add_to_cart_order\n",
        "\n",
        "print(f'Valor mínimo:',min_value , 'Valor máximo:',  max_value)"
      ]
    },
    {
      "cell_type": "markdown",
      "id": "9b3218a1-b942-436a-905d-4d1e54473f05",
      "metadata": {},
      "source": [
        "Describe brevemente cuáles son tus hallazgos.\n",
        "\n",
        "El valor mínimo es 1, mientras que el máximo es 64. Quiere decir que los usuarios compraron solo 1 producto y hubo quien(es) compraron hasta 64. "
      ]
    },
    {
      "cell_type": "code",
      "execution_count": null,
      "id": "719b70f0-3988-44f9-98fb-e6da670a3bb6",
      "metadata": {
        "trusted": true
      },
      "outputs": [],
      "source": [
        "# Guarda todas las IDs de pedidos que tengan un valor ausente en 'add_to_cart_order'\n",
        "\n",
        "id_null_add_cart = df_ord_prd[df_ord_prd['add_to_cart_order'].isna()] # id_null_add_cart añade los elementos del dataframe que tienen valor nulo en 'add_to_cart_order'\n",
        "\n",
        "print(id_null_add_cart)"
      ]
    },
    {
      "cell_type": "code",
      "execution_count": null,
      "id": "b9d00375-be90-441c-a86f-7de8bb954aca",
      "metadata": {
        "trusted": true
      },
      "outputs": [],
      "source": [
        "# ¿Todos los pedidos con valores ausentes tienen más de 64 productos?\n",
        "# Agrupa todos los pedidos con datos ausentes por su ID de pedido.\n",
        "# Cuenta el número de 'product_id' en cada pedido y revisa el valor mínimo del conteo.\n",
        "\n",
        "\n",
        "group_id_null_cart = id_null_add_cart.groupby('order_id')['product_id'].count() # Agrupando por 'order_id' cuenta cuántos 'product_id' hay por pedido\n",
        "\n",
        "print(group_id_null_cart)\n",
        "print(f'El mínimo de los pedidos con valores ausentes en \"añadir al carrito\" es', group_id_null_cart.min())"
      ]
    },
    {
      "cell_type": "markdown",
      "id": "f3f6f476-2942-4868-8217-8f00bd1df77d",
      "metadata": {},
      "source": [
        "Describe brevemente cuáles son tus hallazgos.\n",
        "\n",
        "Hay 836 valores nulos para la columna 'add_to_cart_order'. Agrupamos los nulos por 'order_id' y tenemos 70 órdenes donde la cuenta de los productos va desde 1 hasta 64. No todos los pedidos con valores ausentes tienen más de 64 productos. \n"
      ]
    },
    {
      "cell_type": "code",
      "execution_count": null,
      "id": "613c8359-0f4b-422b-a71b-8cdf2d83ebc5",
      "metadata": {
        "trusted": true
      },
      "outputs": [],
      "source": [
        "# Remplaza los valores ausentes en la columna 'add_to_cart? con 999 y convierte la columna al tipo entero.\n",
        "\n",
        "df_ord_prd['add_to_cart_order'].fillna(999, inplace=True)                     # Reemplazamos los valores nulos con 999\n",
        "\n",
        "df_ord_prd['add_to_cart_order'] = df_ord_prd['add_to_cart_order'].astype(int) # Convertimos la columna a enteros\n",
        "\n",
        "df_ord_prd.info(show_counts=True)"
      ]
    },
    {
      "cell_type": "markdown",
      "id": "42a929f0-657a-41fe-9118-cfbae098b952",
      "metadata": {},
      "source": [
        "Describe brevemente tus hallazgos y lo que hiciste con ellos.\n",
        "\n",
        "El dataframe contenía 836 valores nulos para la columna 'add_to_cart_order'. Al agrupar los datos por 'order_id' encontramos 70 órdenes, cada una con varios productos seleccionados que iban desde 1 hasta 64. La inferencia aqui es que esas órdenes nunca se concretaton, por eso el orden del carrito aparece como nulo. Reemplazamos los valores nulos con \"999\" mostrando un valor fuera de rango y convertimos la columna a enteros, ya que solo contiene números enteros."
      ]
    },
    {
      "cell_type": "markdown",
      "id": "547ba180-b9cb-41ac-b875-62b048f752a1",
      "metadata": {},
      "source": [
        "## Conclusiones\n",
        "\n",
        "Escribe aquí tus conclusiones intermedias sobre el Paso 2. Preprocesamiento de los datos\n",
        "\n",
        "Dependiendo del tipo de dataframe, elegimos eliminar o conservar los duplicados. Los valores nulos decidimos reempalzarlos con otros valores, ya que eliminarlos suponía un error pues borraríamos información relevante para el análisis. \n",
        "\n",
        "Los datos están pre-procesados y listos para un análisis visual que permita entender mejor sus caráctirisitcas y realizar posibles comparaciones. "
      ]
    },
    {
      "cell_type": "markdown",
      "id": "1fd00331-1e32-4a85-8e42-6315aa86c8be",
      "metadata": {},
      "source": [
        "# Paso 3. Análisis de los datos\n",
        "\n",
        "Una vez los datos estén procesados y listos, haz el siguiente análisis:"
      ]
    },
    {
      "cell_type": "markdown",
      "id": "9a02d428-4151-4dcd-9850-eb8365b932d7",
      "metadata": {},
      "source": [
        "# [A] Fácil (deben completarse todos para aprobar)\n",
        "\n",
        "1. Verifica que los valores en las columnas `'order_hour_of_day'` y `'order_dow'` en la tabla orders sean razonables (es decir, `'order_hour_of_day'` oscile entre 0 y 23 y `'order_dow'` oscile entre 0 y 6).\n",
        "2. Crea un gráfico que muestre el número de personas que hacen pedidos dependiendo de la hora del día.\n",
        "3. Crea un gráfico que muestre qué día de la semana la gente hace sus compras.\n",
        "4. Crea un gráfico que muestre el tiempo que la gente espera hasta hacer su siguiente pedido, y comenta sobre los valores mínimos y máximos."
      ]
    },
    {
      "cell_type": "markdown",
      "id": "33e800dc-e9d3-4b4e-bc47-4756326bc078",
      "metadata": {},
      "source": [
        "### [A1] Verifica que los valores sean sensibles"
      ]
    },
    {
      "cell_type": "code",
      "execution_count": null,
      "id": "aceff29a-bb0e-499c-a11c-79f6688c581e",
      "metadata": {
        "trusted": true
      },
      "outputs": [],
      "source": [
        "# Gráfico order_hour_of_day que muestra los 24 valores\n",
        "\n",
        "order_hours = df_ins_ord.groupby('order_hour_of_day')['user_id'].count()\n",
        "\n",
        "order_hours.plot(kind = 'barh',\n",
        "                 title = 'Hora en que los usuarios compran',\n",
        "                 xticks = [0,1,2,3,4,5,6,7,8,9,10,11,12,13,14,15,16,17,18,19,20,21,22,23],\n",
        "                 ylabel = 'Hora')\n",
        "plt.show()"
      ]
    },
    {
      "cell_type": "code",
      "execution_count": null,
      "id": "52c9850d-213b-4040-a44b-11a6dd9fc618",
      "metadata": {
        "trusted": true
      },
      "outputs": [],
      "source": [
        "# Gráfico order_dow que muestra los 7 valores\n",
        "\n",
        "order_dow = df_ins_ord.groupby('order_dow')['user_id'].count() # Agrupa por 'order_dow' y devuelve cuántos usuarios compraron ese día\n",
        "\n",
        "order_dow.plot(kind = 'bar',\n",
        "               title = 'Días en que los usuarios compran',\n",
        "               xlabel = 'Días', \n",
        "               ylabel = 'Número de usuarios')\n",
        "plt.show()"
      ]
    },
    {
      "cell_type": "markdown",
      "id": "692cd1cf-21cf-4301-865d-26742eb95c88",
      "metadata": {},
      "source": [
        "Escribe aquí tus conclusiones\n",
        "\n",
        "El gráfico *'Hora en que se realiza pedido'* muestra cómo el número de usuarios varía con respecto a la hora del día. El gráfico pretende mostrar que se tienen 24 datos/barras donde cada una representa la hora del día, sigueindo el formato de 24 horas.\n",
        "\n",
        "El gráfico *Día en que se realiza el pedido* muestra la variación de número de usuarios con respecto al día de la semana. Siguiendo una escala númerica, donde *0 es Domingo*, *1 es Lunes* y así sucesivamente, el gráfico enseña los 7 datos donde cada uno representa el día de la semana. "
      ]
    },
    {
      "cell_type": "markdown",
      "id": "52a7bcbc-1a8c-4a9d-a5df-27baa0a13110",
      "metadata": {},
      "source": [
        "### [A2] Para cada hora del día, ¿cuántas personas hacen órdenes?"
      ]
    },
    {
      "cell_type": "code",
      "execution_count": null,
      "id": "1c4c7bad-fd22-4594-8e19-c5ef67aeb5d0",
      "metadata": {
        "trusted": true
      },
      "outputs": [],
      "source": [
        "# Gráfico orders per hour\n",
        "\n",
        "user_order_hour = df_ins_ord.groupby('order_hour_of_day')['user_id'].count()  # Agrupa por 'order_hour_of_day' devuelve cuántos usuarios compraron en esa hora del día \n",
        "\n",
        "user_order_hour.plot(kind = 'bar',\n",
        "                    title = 'Hora en la que el usuario realiza pedido',\n",
        "                    xlabel = 'Hora', \n",
        "                    ylabel = 'Número de usuarios')\n",
        "\n",
        "plt.show()"
      ]
    },
    {
      "cell_type": "markdown",
      "id": "282638fb-28a4-4ded-876e-d9abd9ef55c6",
      "metadata": {},
      "source": [
        "Escribe aquí tus conclusiones\n",
        "\n",
        "El gráfico *'Hora en la que el usuario realiza pedido'* agrupa a los usuarios por hora del día en que realizaron el pedido. Se observa un incremento en el número de usuarios a partir de las 6:00 horas y tiende a bajar a partir de las 17:00 horas, por lo que podemos inferir que la mayoría de los usuarios realizan sus compras durante el día. Hay menos ventas durante la noche."
      ]
    },
    {
      "cell_type": "markdown",
      "id": "63b9b056-ba22-4ac4-872a-fbe968087202",
      "metadata": {},
      "source": [
        "### [A3] ¿Qué día de la semana compran víveres las personas?"
      ]
    },
    {
      "cell_type": "code",
      "execution_count": null,
      "id": "eccbaa6a-5a5f-4fd2-9aeb-54cb3d6427a2",
      "metadata": {
        "trusted": true
      },
      "outputs": [],
      "source": [
        "# Gráfico orders per day\n",
        "\n",
        "user_order_day = df_ins_ord.groupby('order_dow')['user_id'].count()  # Agrupa por 'order_dow' y devuelve cuántos usuarios compraron en tal día de la semana \n",
        "\n",
        "user_order_day.plot(kind = 'bar',\n",
        "                    title = 'Día en que el usuario realiza pedido',\n",
        "                    xlabel = 'Día', \n",
        "                    ylabel = 'Número de usuarios')\n",
        "\n",
        "plt.show()"
      ]
    },
    {
      "cell_type": "markdown",
      "id": "40477422-53c3-4ee4-8ccf-c1c4eddf2d77",
      "metadata": {},
      "source": [
        "Escribe aquí tus conclusiones\n",
        "\n",
        "El gráfico *'Día en que el usuario realiza pedido'* agrupa a los usuarios por día en que realizaron el pedido. Hay un mayor número de pedidos los días 0 y 1 (Domingo y Lunes respectivamente), mientras que los días de menos compras son 3 y 4 (Jueves y Viernes respectivamente)."
      ]
    },
    {
      "cell_type": "markdown",
      "id": "cc281f02-9f71-4593-9b04-10b92aba519a",
      "metadata": {},
      "source": [
        "### [A4] ¿Cuánto tiempo esperan las personas hasta hacer otro pedido? Comenta sobre los valores mínimos y máximos."
      ]
    },
    {
      "cell_type": "code",
      "execution_count": null,
      "id": "7f80e5ec-18e6-4783-a5ef-f86341e1d18f",
      "metadata": {
        "trusted": true
      },
      "outputs": [],
      "source": [
        "# Gráfico days_since_prior_order\n",
        "\n",
        "days_since_prior_order = df_ins_ord.groupby('days_since_prior_order')['user_id'].count()  # Agrupa por 'order_dow' y devuelve cuántos usuarios compraron en tal día de la semana \n",
        "\n",
        "filtered_days = days_since_prior_order[days_since_prior_order.index != -1] # Exluimos a los nuevos usuarios guardados previamente con -1\n",
        "\n",
        "print(f'El valor mínimo de usuarios que compraron después de su adqusición anterior es:', filtered_days.min() , 'y el máximo es:', filtered_days.max())\n",
        "\n",
        "filtered_days.plot(kind = 'bar',\n",
        "                   title = 'Días desde que el usuario realizó su último pedido',\n",
        "                   xlabel = 'Días desde el último pedido',\n",
        "                   ylabel = 'Número de usuarios', \n",
        "                   ylim = [0,55000])\n",
        "\n",
        "plt.show()"
      ]
    },
    {
      "cell_type": "markdown",
      "id": "876aacb4-b36e-4a62-8dec-cf41a20d472c",
      "metadata": {},
      "source": [
        "Escribe aquí tus conclusiones\n",
        "\n",
        "El gráfico *'Días desde que el usuario realizó su último pedido'* muestra cuántos usuarios compraron nuevamente despúes de cierto número de días. A simple vista, y a falta de un análisis más profundo, hay cierta tendencia de aumento desde el día 0 al 7; luego disminuye para aumentar drásticamente al día 30. \n",
        "\n",
        "El valor mínimo es al día 26 (2,640 usuarios) y el máximo al 30 (51,337 usuarios), el valor mínimo nos podría indicar que los usuarios no esperan tanto tiempo para volver a comprar. Por otra parte, el valor máximo puede ser un indicio de que los usuarios hacen compras mensuales que pueden marcar tendencias de consumo. "
      ]
    },
    {
      "cell_type": "markdown",
      "id": "3cade05e-ad73-4fe5-a351-6ff490dfddf3",
      "metadata": {},
      "source": [
        "# [B] Intermedio (deben completarse todos para aprobar)\n",
        "\n",
        "1. ¿Existe alguna diferencia entre las distribuciones `'order_hour_of_day'` de los miércoles y los sábados? Traza gráficos de barra de `'order_hour_of_day'` para ambos días en la misma figura y describe las diferencias que observes.\n",
        "2. Grafica la distribución para el número de órdenes que hacen los clientes (es decir, cuántos clientes hicieron solo 1 pedido, cuántos hicieron 2, cuántos 3, y así sucesivamente...).\n",
        "3. ¿Cuáles son los 20 principales productos que se piden con más frecuencia (muestra su identificación y nombre)?"
      ]
    },
    {
      "cell_type": "markdown",
      "id": "db3030c9-37ac-409c-a7d9-2885129548cb",
      "metadata": {},
      "source": [
        "### [B1] Diferencia entre miércoles y sábados para  `'order_hour_of_day'`. Traza gráficos de barra para los dos días y describe las diferencias que veas."
      ]
    },
    {
      "cell_type": "code",
      "execution_count": null,
      "id": "0703336f-57fb-41f8-bfb5-a6466211cd17",
      "metadata": {
        "trusted": true
      },
      "outputs": [],
      "source": [
        "# Distribución miércoles\n",
        "\n",
        "wed_hour = df_ins_ord[df_ins_ord['order_dow'] == 3]                  # filtramos el df_ins_ord por día 3 (miércoles) y lo guardamos en wed_hour\n",
        "wed_hour = wed_hour.groupby('order_hour_of_day')['order_id'].count() # modificamos wed_hour para que agrupe por 'order_hour_of_day' y cuente los valores de 'order_id'\n"
      ]
    },
    {
      "cell_type": "code",
      "execution_count": null,
      "id": "aeb03a6d-771e-445a-88be-740e0128111f",
      "metadata": {
        "trusted": true
      },
      "outputs": [],
      "source": [
        "# Distribución sábado\n",
        "\n",
        "sat_hour = df_ins_ord[df_ins_ord['order_dow'] == 6]                  # filtramos el df_ins_ord por día 6 (sábado) y lo guardamos en sat_hour\n",
        "sat_hour = sat_hour.groupby('order_hour_of_day')['order_id'].count() # modificamos sat_hour para que agrupe por 'order_hour_of_day' y cuente los valores de 'order_id'\n"
      ]
    },
    {
      "cell_type": "code",
      "execution_count": null,
      "id": "eea37dfa-9c49-4bd9-8070-b85372a874fa",
      "metadata": {
        "trusted": true
      },
      "outputs": [],
      "source": [
        "# Concatenamos ambas columnas para crear el gráfico\n",
        "\n",
        "df_wed_sat = pd.concat([wed_hour, sat_hour], axis = 'columns') # Juntamos ambas series en un mismo df. Nos aseguramos de que axis='columns' para que cada serie represente una columna\n",
        "\n",
        "print(df_wed_sat.sum()) # Sacamos el total de datos de cada serie "
      ]
    },
    {
      "cell_type": "code",
      "execution_count": null,
      "id": "15870311-4bf3-42af-8ac1-f2e2451d863f",
      "metadata": {
        "trusted": true
      },
      "outputs": [],
      "source": [
        "df_wed_sat.plot(kind = 'bar',\n",
        "                title = 'Comparación de pedidos por hora entre miércoles y sábado',\n",
        "                xlabel = 'Hora',\n",
        "                ylabel = 'Número de pedidos')\n",
        "                \n",
        "plt.legend(['Miércoles', 'Sábado'])\n",
        "\n",
        "plt.show()"
      ]
    },
    {
      "cell_type": "markdown",
      "id": "7894c378-bd47-44d1-9169-ecb71222c614",
      "metadata": {},
      "source": [
        "Escribe aquí tus conclusiones\n",
        "\n",
        "El miércoles hubo un total de *60,897* órdenes, mientras que el sábado hubo *62,649*. Los miércoles hay más pedidos durante las primeras horas de la mañana (6:00-10:00) y tarde (18:00-20:00) que el sábado. Los sábados presentan un crecimiento continuo hasta su pico a las 14:00 y de ahí desciende de manera \"uniforme\"; se tiene mucha más actividad desde las 11:00 hasta las 14:00 a comparación del miércoles. Se hace una inferencia de que este comportamiento se debe a los hábitos entre semana y fin de semana de los usuarios. \n"
      ]
    },
    {
      "cell_type": "markdown",
      "id": "a7093660-81b5-4448-aebd-fd2f4f173479",
      "metadata": {},
      "source": [
        "### [B2] ¿Cuál es la distribución para el número de pedidos por cliente?"
      ]
    },
    {
      "cell_type": "code",
      "execution_count": null,
      "id": "ee4f5af9-00d0-4f9e-895b-cafcb6d55446",
      "metadata": {
        "trusted": true
      },
      "outputs": [],
      "source": [
        "# Distribución de cuántos clientes pidieron 1, 2, 3... veces\n",
        "\n",
        "df_user_order_number = df_ins_ord.groupby('user_id')['order_id'].count() # Agrupando por 'user_id' cuenta cuántos 'order_id' tiene el usuario\n",
        "distribution_ins_ord = df_user_order_number.value_counts().sort_index() # Cuenta cuántos usuarios realizan determinado número de pedidos\n",
        "\n",
        "#print(distribution_ins_ord)"
      ]
    },
    {
      "cell_type": "code",
      "execution_count": null,
      "id": "44fac27f-4351-4605-ad40-16e6778c0948",
      "metadata": {
        "trusted": true
      },
      "outputs": [],
      "source": [
        "# Mostramos el gráfico \n",
        "\n",
        "distribution_ins_ord.plot(title = 'Número de usuarios que hicieron determinado número de pedidos', \n",
        "                          xlabel = 'Número de pedidos', \n",
        "                          ylabel = 'Número de usuarios', \n",
        "                          xticks = [0,2,4,6,8,10,12,14,16,18,20,22,24,26,28]) # Ponemos etiquetas cada 2 valores en el eje x\n",
        "\n",
        "plt.show()"
      ]
    },
    {
      "cell_type": "markdown",
      "id": "e3c6de92-398f-4954-bf53-ed49c653a523",
      "metadata": {},
      "source": [
        "Escribe aquí tus conclusiones\n",
        "\n",
        "La mayoría de los datos se distribuyen en los primeros valores. El máximo valor se concentra en aquellos usuarios que solo pidieron 1 producto; de este punto de partida, aquellos que hicieron 2 pedidos, 3 y sucesivamente, tienen una gran diferencia a comparación del punto anterior. A falta de un análisis estadístico, se puede inferir que más usuarios hacen un número menor de pedidos y viceversa, menos usuarios hacen un número mayor de pedidos.  "
      ]
    },
    {
      "cell_type": "markdown",
      "id": "be3f7451-a286-49d9-81dd-9d3d4c126f86",
      "metadata": {},
      "source": [
        "### [B3] ¿Cuáles son los 20 productos más populares (muestra su ID y nombre)?"
      ]
    },
    {
      "cell_type": "code",
      "execution_count": null,
      "id": "d4a9b0c7-fdf7-4f51-9831-3c667d3647f1",
      "metadata": {
        "trusted": true
      },
      "outputs": [],
      "source": [
        "# Obtenemos los productos más populares por su id\n",
        "\n",
        "popular_prd = df_ord_prd.groupby('product_id')['order_id'].count()            # Agrupando por 'product_id' cuenta cuántos 'order_id' tiene dicho producto\n",
        "sorted_popular_prd = popular_prd.sort_values(ascending = False).reset_index() # Ordena los datos de manera descendente (mayor a menor) y reinicia el índice para mejor visualización \n",
        "\n",
        "filtered_df_prd_name = df_prd[['product_id','product_name']]                  # Filtramos el dataframe df_prd por las columnas que nos interesan 'product_id' y 'product_name'"
      ]
    },
    {
      "cell_type": "code",
      "execution_count": null,
      "id": "1d85536c-80ad-4cd0-bb1f-0f07faddc5e0",
      "metadata": {
        "trusted": true
      },
      "outputs": [],
      "source": [
        "# Juntamos los dataframes con .merge()\n",
        "\n",
        "# Combinamos los dataframes 'sorted_popular_prd' y 'filtered_df_prd_name' utilizando 'product_id' como clave común\n",
        "merged_popular_prd = sorted_popular_prd.merge(filtered_df_prd_name, on='product_id') \n",
        "\n",
        "# Creamos la columna que junta 'product_id' y 'product_name'\n",
        "merged_popular_prd['product_id_name'] = merged_popular_prd['product_id'].astype(str) + \"_\" + merged_popular_prd['product_name']\n",
        "\n",
        "merged_20_popular_prd = merged_popular_prd.loc[:19] # Creamos un slice de las primeras 20 filas"
      ]
    },
    {
      "cell_type": "code",
      "execution_count": null,
      "id": "dbaa06df-c207-491b-8467-68cddea27e77",
      "metadata": {
        "trusted": true
      },
      "outputs": [],
      "source": [
        "# Mostramos el gráfico \n",
        "\n",
        "merged_20_popular_prd.plot(x = 'product_id_name',\n",
        "                           xlabel = 'ID y nombre del producto',\n",
        "                           y = 'order_id', \n",
        "                           title = '20 productos más pedidos',\n",
        "                           ylabel = 'Número de órdenes', \n",
        "                           legend = False,\n",
        "                           kind = 'bar')\n",
        "plt.show()"
      ]
    },
    {
      "cell_type": "markdown",
      "id": "7f9bb48a-26e2-4ff0-9556-35b4b75bae3b",
      "metadata": {},
      "source": [
        "Escribe aquí tus conclusiones\n",
        "\n",
        "El producto más pedido es \"banana\" con más de 60,000 órdenes. Los 20 productos más pedidos son frutas y verduras. Gran parte de los productos tienen la categoría de \"órganico\"."
      ]
    },
    {
      "cell_type": "markdown",
      "id": "4b97d125-fe4f-4c38-99bf-15906ae2a9b0",
      "metadata": {},
      "source": [
        "# [C] Difícil (deben completarse todos para aprobar)\n",
        "\n",
        "1. ¿Cuántos artículos suelen comprar las personas en un pedido? ¿Cómo es la distribución?\n",
        "2. ¿Cuáles son los 20 principales artículos que vuelven a pedirse con mayor frecuencia (muestra sus nombres e IDs de los productos)?\n",
        "3. Para cada producto, ¿cuál es la tasa de repetición del pedido (número de repeticiones de pedido/total de pedidos?\n",
        "4. Para cada cliente, ¿qué proporción de los productos que pidió ya los había pedido? Calcula la tasa de repetición de pedido para cada usuario en lugar de para cada producto.\n",
        "5. ¿Cuáles son los 20 principales artículos que la gente pone primero en sus carritos (muestra las IDs de los productos, sus nombres, y el número de veces en que fueron el primer artículo en añadirse al carrito)?"
      ]
    },
    {
      "cell_type": "markdown",
      "id": "9942e382-d7d9-4269-8983-d977edde7e76",
      "metadata": {},
      "source": [
        "### [C1] ¿Cuántos artículos compran normalmente las personas en un pedido? ¿Cómo es la distribución?"
      ]
    },
    {
      "cell_type": "code",
      "execution_count": null,
      "id": "185a623a-9ff0-41cb-be3c-256bc74aac99",
      "metadata": {
        "trusted": true
      },
      "outputs": [],
      "source": [
        "# Obtenemos cuántos artículos contienen las órdenes\n",
        "\n",
        "order_id_grp = df_ord_prd.groupby('order_id')['product_id'].count()"
      ]
    },
    {
      "cell_type": "code",
      "execution_count": null,
      "id": "5f384ee7-4cdb-4583-92c5-7090738ceff8",
      "metadata": {
        "trusted": true
      },
      "outputs": [],
      "source": []
    },
    {
      "cell_type": "code",
      "execution_count": null,
      "id": "4f1357bf-803c-49fa-a914-e04c77d3aee8",
      "metadata": {
        "trusted": true
      },
      "outputs": [],
      "source": [
        "# Mostramos el gráfico\n",
        "\n",
        "order_id_grp.plot(title = 'Artículos comprados por pedido', \n",
        "                             kind = 'hist', bins = 20,\n",
        "                             xlabel = 'Número de pedidos', \n",
        "                             ylabel = 'Número de usuarios')\n",
        "\n",
        "plt.show()"
      ]
    },
    {
      "cell_type": "markdown",
      "id": "94f8bfdb-01f4-485b-9e61-611433a92e88",
      "metadata": {},
      "source": [
        "Escribe aquí tus conclusiones"
      ]
    },
    {
      "cell_type": "markdown",
      "id": "669016c1-5ef0-4649-9006-7257ec1855d8",
      "metadata": {},
      "source": [
        "### [C2] ¿Cuáles son los 20 principales artículos que vuelven a pedirse con mayor frecuencia (muestra sus nombres e IDs de los productos)?"
      ]
    },
    {
      "cell_type": "code",
      "execution_count": null,
      "id": "4923ee93-6d16-46e9-8110-f3c1c186b660",
      "metadata": {
        "trusted": true
      },
      "outputs": [],
      "source": [
        "# Filtramos el dataframe por columna reorder = 1\n",
        "\n",
        "prd_reorder = df_ord_prd[df_ord_prd['reordered'] == 1] # Filtramos el dataframe 'df_ord_prd' conservando las filas donde reordered sea 1 (se ha pedido antes)"
      ]
    },
    {
      "cell_type": "code",
      "execution_count": null,
      "id": "db42d9f1-4e27-44b2-a81b-456081695dd9",
      "metadata": {
        "trusted": true
      },
      "outputs": [],
      "source": [
        "# Obtenemos productos más populares por id\n",
        "\n",
        "popular_reorder = prd_reorder.groupby('product_id')['order_id'].count()               # Agrupamos por 'product_id' y cuenta cuántos 'order_id' tiene \n",
        "sorted_popular_reorder = popular_reorder.sort_values(ascending = False).reset_index() # Ordena los datos de manera descendente (mayor a menor) y reinicia el índice para mejor visualización "
      ]
    },
    {
      "cell_type": "code",
      "execution_count": null,
      "id": "310694c9-692d-4575-861f-0db6d7da29f3",
      "metadata": {
        "trusted": true
      },
      "outputs": [],
      "source": [
        "# Juntamos los dataframes con .merge()\n",
        "\n",
        "# Utilizamos el filtro que utilizamos anteriormente para sacar las columnas de 'product_id' y 'product_name'\n",
        "#filtered_df_prd_name = df_prd[['product_id','product_name']]  \n",
        "\n",
        "# Combinamos los dataframes 'sorted_popular_reorder' y 'filtered_df_prd_name' utilizando 'product_id' como clave común\n",
        "merged_popular_reorder = sorted_popular_reorder.merge(filtered_df_prd_name, on='product_id') \n",
        "\n",
        "# Creamos la columna que junta 'product_id' y 'product_name'\n",
        "merged_popular_reorder['product_id_name'] = merged_popular_reorder['product_id'].astype(str) + \"_\" + merged_popular_reorder['product_name']\n",
        "\n",
        "merged_20_popular_reorder = merged_popular_reorder.loc[:19] # Creamos un slice de las primeras 20 filas"
      ]
    },
    {
      "cell_type": "code",
      "execution_count": null,
      "id": "34fea5df-64bb-4d76-9af7-fc7ee98183a9",
      "metadata": {
        "trusted": true
      },
      "outputs": [],
      "source": [
        "# Mostramos el gráfico \n",
        "\n",
        "merged_20_popular_reorder.plot(x = 'product_id_name',\n",
        "                              xlabel = 'ID y nombre del producto', \n",
        "                              ylabel = 'Veces que se volvió a pedir',\n",
        "                              y = 'order_id', \n",
        "                              title = '20 productos que más vuelven a pedir', \n",
        "                              legend = False, \n",
        "                              kind = 'bar')\n",
        "\n",
        "plt.show()"
      ]
    },
    {
      "cell_type": "markdown",
      "id": "5eafba8a-ee81-4a8d-a6a3-5ffc0cbe3a70",
      "metadata": {},
      "source": [
        "Escribe aquí tus conclusiones\n",
        "\n",
        "Comparte varios productos que son de los más populares. Uno de los cambios notorios fue 'ORGANIC WHOLE MILK' que subió 3 posiciones a comparación del gráfico *'20 productos más pedidos'*, la gente vuelve a comprar este producto con mayor frecuencia. El producto que más se vuelve a pedir son las bananas; su calidad debe ser excepcional."
      ]
    },
    {
      "cell_type": "markdown",
      "id": "9bc1b4e1-63d9-4f1b-a0d5-e817edef16db",
      "metadata": {},
      "source": [
        "### [C3] Para cada producto, ¿cuál es la proporción de las veces que se pide y que se vuelve a pedir?"
      ]
    },
    {
      "cell_type": "code",
      "execution_count": null,
      "id": "56769ed5-eb34-450e-9ffc-97200386f275",
      "metadata": {
        "trusted": true
      },
      "outputs": [],
      "source": [
        "# Obtenemos el producto por reorder\n",
        "\n",
        "product_reorder = df_ord_prd[df_ord_prd['reordered'] == 1]                                     # Creamos un dataframe que contenga solo valores de recompra\n",
        "\n",
        "product_reorder_grp = product_reorder.groupby('product_id')['reordered'].count().reset_index() # Agrupamos por 'product_id' y cuenta cuántas recompras hay\n",
        "\n",
        "product_order_grp = df_ord_prd.groupby('product_id')['reordered'].count().reset_index()        # Agrupamos por 'product_id' y cuenta el todos los valores que estén en la misma fila de 'product_id'"
      ]
    },
    {
      "cell_type": "code",
      "execution_count": null,
      "id": "3f4e4395-eb52-4d9c-b6e2-e9680dd9b0a5",
      "metadata": {
        "trusted": true
      },
      "outputs": [],
      "source": [
        "# Juntamos los dataframes con .merge()\n",
        "\n",
        "# Debe mostrar una columna con las órdenes totales y otra con las veces que se volvió a comprar\n",
        "merged_product_order = product_order_grp.merge(product_reorder_grp, on='product_id') # Se excluyen del dataframe aquellos productos que no tienen registro de recompra\n",
        "\n",
        "merged_product_order['reorder_proportion'] = merged_product_order['reordered_y'] / merged_product_order['reordered_x'] # Creamos una columna que muestra la proporción de recompra\n",
        "print(merged_product_order)"
      ]
    },
    {
      "cell_type": "code",
      "execution_count": null,
      "id": "0c4a6a1d-2b0e-4e6b-a40e-4e9ce3864cb7",
      "metadata": {
        "trusted": true
      },
      "outputs": [],
      "source": [
        "# Mostramos el gráfico\n",
        "\n",
        "merged_product_order['reorder_proportion'].plot(kind = 'hist', # El histograma muestra la frecuencia con la que aparecen valores para una variable.\n",
        "                                                bins = 25, \n",
        "                                                title = 'Proporción en que un producto se vuelve a comprar',\n",
        "                                                ylabel = 'Frecuencia',\n",
        "                                                xlabel = 'Proporción', \n",
        "                                                xticks = [0,.1,.2,.3,.4,.5,.6,.7,.8,.9,1],\n",
        "                                                alpha = 0.9)\n",
        "\n",
        "plt.show()"
      ]
    },
    {
      "cell_type": "markdown",
      "id": "0428de2c-1629-4317-ad82-73a76404efc2",
      "metadata": {},
      "source": [
        "Escribe aquí tus conclusiones\n",
        "\n",
        "Se decidió crear un histograma pues refleja la frecuencia con la que aparecen valores. Se agrupan cada una de las proporciones en un \"contenedor\". Hay un total de 25 contenedores y cada uno almacena cierto rango de la proporción. \n",
        "Encontramos que la mayor frecuencia es en la proporción 0.5, es decir 1 de cada 2 veces el artículo se volvió a comprar. De igual manera, encontramos valores significativos en la proporción cercana a 0.3 y otra importante en la proporción 1, que indica que para dichos artículos el usuario siempre vuelve por más."
      ]
    },
    {
      "cell_type": "markdown",
      "id": "219994d0-2c2d-4542-99f2-445e1c8d60f7",
      "metadata": {},
      "source": [
        "### [C4] Para cada cliente, ¿qué proporción de sus productos ya los había pedido?"
      ]
    },
    {
      "cell_type": "code",
      "execution_count": null,
      "id": "9150be19-9cf3-4b6e-80f8-1df9b995fa03",
      "metadata": {
        "trusted": true
      },
      "outputs": [],
      "source": [
        "# Agrupamos por recompras\n",
        "\n",
        "user_reorder = df_ins_ord[df_ins_ord['days_since_prior_order'] >= 0]                                     # Creamos un dataframe que contenga solo valores de recompra\n",
        "\n",
        "user_reorder_grp = user_reorder.groupby('order_id')['days_since_prior_order'].agg(total_products='size', total_reorders='sum') # Agrupando por 'user_id' se agregan funciones específicas para guardar el tamaño total y la suma de las compras\n",
        "\n",
        "print(user_reorder_grp)"
      ]
    },
    {
      "cell_type": "code",
      "execution_count": null,
      "id": "0960f4bf-efb1-4044-a022-5048a67be87c",
      "metadata": {
        "trusted": true
      },
      "outputs": [],
      "source": [
        "# Sacamos la proporción \n",
        "\n",
        "user_reorder_grp['buy_again_proportion'] = user_reorder_grp['total_reorders'] / user_reorder_grp['total_products']\n",
        "\n",
        "print(user_reorder_grp)"
      ]
    },
    {
      "cell_type": "code",
      "execution_count": null,
      "id": "31561c17-ae70-4ab0-b29f-99e53741ddef",
      "metadata": {
        "trusted": true
      },
      "outputs": [],
      "source": [
        "# Mostramos el gráfico \n",
        "\n",
        "user_reorder_grp['buy_again_proportion'].plot(kind = 'hist', # El histograma muestra la frecuencia con la que aparecen valores para una variable.\n",
        "                                              bins = 20, \n",
        "                                              title = 'Proporción en que un producto se vuelve a comprar',\n",
        "                                              ylabel = 'Frecuencia',\n",
        "                                              xlabel = 'Proporción',\n",
        "                                              alpha = 0.9)\n",
        "\n",
        "plt.show()"
      ]
    },
    {
      "cell_type": "markdown",
      "id": "d22f57b7-abcf-45c9-ba09-38f38ffc7f84",
      "metadata": {},
      "source": [
        "Escribe aquí tus conclusiones \n",
        "\n",
        "Se decidió crear un histograma pues refleja la frecuencia con la que aparecen valores. Se agrupan cada una de las proporciones en un \"contenedor\". Hay un total de 20 contenedores y cada uno almacena cierto rango de la proporción. \n",
        "Sacamos cuántos productos han recomprado y cuántas órdenes han hecho los clientes, con estos datos establecemos una proporción que graficamos. Encontramos que la mayor frecuencia es en la proporción 30, es decir 1 producto se ha vuelto a pedir 30 veces. Puede que estos artículos estén entre los más populares"
      ]
    },
    {
      "cell_type": "markdown",
      "id": "80142b30-61fc-48f2-a7b4-cd0303cd98c0",
      "metadata": {},
      "source": [
        "### [C5] ¿Cuáles son los 20 principales artículos que las personas ponen primero en sus carritos?"
      ]
    },
    {
      "cell_type": "code",
      "execution_count": null,
      "id": "f63e761f-6268-4164-9c4d-3217c06566dc",
      "metadata": {
        "trusted": true
      },
      "outputs": [],
      "source": [
        "# Filtramos el dataframe por columna add_to_cart_order = 1\n",
        "\n",
        "prd_first_cart = df_ord_prd[df_ord_prd['add_to_cart_order'] == 1] # Filtramos el dataframe 'df_ord_prd' conservando las filas donde add_to_cart_order sea 1 (primer artículo seleccionado)"
      ]
    },
    {
      "cell_type": "code",
      "execution_count": null,
      "id": "4f64d8bf-a426-4e55-9a30-6448e5f6f3b0",
      "metadata": {
        "trusted": true
      },
      "outputs": [],
      "source": [
        "# Obtenemos productos principales\n",
        "\n",
        "principal_first_cart = prd_first_cart.groupby('product_id')['order_id'].count()                 # Agrupamos por 'product_id' y cuenta cuántos 'order_id' tiene \n",
        "sorted_principal_first_cart = principal_first_cart.sort_values(ascending = False).reset_index() # Ordena los datos de manera descendente (mayor a menor) y reinicia el índice para mejor visualización "
      ]
    },
    {
      "cell_type": "code",
      "execution_count": null,
      "id": "15cb2d25-0c55-477e-99d5-b754418c8861",
      "metadata": {
        "trusted": true
      },
      "outputs": [],
      "source": [
        "# Juntamos los dataframes con .merge()\n",
        "\n",
        "# Utilizamos el filtro que utilizamos anteriormente para sacar las columnas de 'product_id' y 'product_name'\n",
        "#filtered_df_prd_name = df_prd[['product_id','product_name']]  \n",
        "\n",
        "merged_principal_first_cart = sorted_principal_first_cart.merge(filtered_df_prd_name, on='product_id') \n",
        "merged_20_principal_first_cart = merged_principal_first_cart.loc[:19] # Creamos un slice de las primeras 20 filas\n"
      ]
    },
    {
      "cell_type": "code",
      "execution_count": null,
      "id": "26f0b58a-4ec4-4332-98a5-dba5adb758f9",
      "metadata": {
        "trusted": true
      },
      "outputs": [],
      "source": [
        "# Mostramos el gráfico\n",
        "\n",
        "merged_20_principal_first_cart.plot(x = 'product_name', \n",
        "                                    ylabel = 'Veces que se eligió primero', \n",
        "                                    xlabel = '',\n",
        "                                    y = 'order_id', \n",
        "                                    title = '20 productos principales que se añaden primero al carrito', \n",
        "                                    legend = False, kind = 'bar')\n",
        "\n",
        "plt.show()"
      ]
    },
    {
      "cell_type": "markdown",
      "id": "f2a7addc-d2fd-4a7d-9feb-c4d519b86710",
      "metadata": {},
      "source": [
        "Escribe aquí tus conclusiones\n",
        "\n",
        "Nuevamente aparecen varios de los productos más populares. Hay una considerable diferencia entre los primeros 2 valores y los demás, parece que los clientes van primero por las bananas antes que otra cosa. Otros productos que aparecen en el gráfico *'20 productos más pedidos'* son ORGANIC WHOLE MILK, ORGANIC STRAWBERRIES, ORGANIC HASS AVOCADO y ORGANIC BABY SPINACH. \n"
      ]
    },
    {
      "cell_type": "markdown",
      "id": "a6d723de-a366-4db2-a0b2-8cd65cc20ae6",
      "metadata": {},
      "source": [
        "### Conclusion general del proyecto:"
      ]
    },
    {
      "cell_type": "markdown",
      "id": "42caf93d-6a08-427d-92fd-218cb186f9d8",
      "metadata": {},
      "source": [
        "Limpiar el conujunto de datos fue retador, ya que hubo que tomar decisiones sobre qué hacer con los duplicados y valores ausentes. \n",
        "\n",
        "Este proyecto permite observar gráficamente los datos de varios conjuntos de datos. Pudimos conocer cuáles son los productos más populares, analizar la proporción de compras entre días de la semana, la frecuencia con la que los usuarios vuelven a comprar en la tienda, entre otros gráficos importantes. A falta de un análisis más profudo, se infieren detalles sobre lo mostrado en las gráficas. \n",
        "Esperamos este proyecto sea de utilidad para la tienda y conozca más detalles sobre sus productos."
      ]
    }
  ],
  "metadata": {
    "kernelspec": {
      "display_name": ".conda",
      "language": "python",
      "name": "python3"
    },
    "language_info": {
      "codemirror_mode": {
        "name": "python",
        "version": 3
      },
      "file_extension": ".py",
      "mimetype": "text/x-python",
      "name": "python",
      "nbconvert_exporter": "python",
      "pygments_lexer": "ipython3",
      "version": "3.11.13"
    }
  },
  "nbformat": 4,
  "nbformat_minor": 5
}
